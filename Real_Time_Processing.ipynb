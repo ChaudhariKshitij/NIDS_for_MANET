{
 "cells": [
  {
   "cell_type": "code",
   "execution_count": 1,
   "id": "ea63d0f3-cc10-4b02-905e-f623428243d1",
   "metadata": {},
   "outputs": [
    {
     "name": "stdout",
     "output_type": "stream",
     "text": [
      "Sending record: live4.csv - ['0', '1398', '105017', '3', '13311.36989', '39653', '105017', '369', '105023', '330', '369', '105023', '345.6', '432', '349.5', '-1', '349.5', '330', '17', '0']\n",
      "Sending record: live4.csv - ['0', '750', '1', '1', '750000000', '34181', '1', '375', '1', '375', '375', '1', '375', '562.5', '375', '-1', '375', '375', '17', '0']\n",
      "Sending record: live4.csv - ['0', '0', '99', '0', '0', '12187', '1', '0', '101', '0', '0', '1', '0', '0', '0', '5840', '0', '0', '6', '1']\n",
      "Sending record: live4.csv - ['0', '802', '1', '1', '802000000', '50534', '1', '401', '1', '401', '401', '1', '401', '601.5', '401', '-1', '401', '401', '17', '0']\n",
      "Sending record: live4.csv - ['0', '2944', '3', '1', '981000000', '672', '3', '1472', '3', '1472', '1472', '3', '1472', '2208', '1472', '-1', '1472', '1472', '17', '0']\n",
      "Sending record: live4.csv - ['0', '1398', '107748', '3', '12974.47796', '47220', '107748', '369', '107750', '330', '369', '107750', '345.6', '432', '349.5', '-1', '349.5', '330', '17', '0']\n",
      "Sending record: live4.csv - ['0', '1438', '106739', '3', '13466.18471', '55507', '106739', '389', '106786', '330', '389', '106786', '353.6', '442', '359.5', '-1', '359.5', '330', '17', '0']\n",
      "Sending record: live4.csv - ['0', '802', '2', '1', '401000000', '57801', '2', '401', '2', '401', '401', '2', '401', '601.5', '401', '-1', '401', '401', '17', '0']\n",
      "Sending record: live4.csv - ['0', '0', '1', '0', '0', '41475', '1', '0', '1', '0', '0', '1', '0', '0', '0', '5840', '0', '0', '6', '1']\n",
      "Sending record: live4.csv - ['23738653', '0', '23738653', '0', '0', '46478', '23738653', '0', '104874555', '0', '0', '104874555', '0', '0', '0', '5840', '0', '0', '6', '1']\n"
     ]
    }
   ],
   "source": [
    "import csv\n",
    "import pika\n",
    "\n",
    "# ... code for connecting to RabbitMQ ...\n",
    "connection = pika.BlockingConnection(pika.ConnectionParameters('localhost'))\n",
    "channel = connection.channel()\n",
    "\n",
    "# Declare the queue\n",
    "channel.queue_declare(queue='csv_data')\n",
    "\n",
    "\n",
    "with open('RTPData.csv', 'r') as file:\n",
    "    csv_reader = csv.reader(file)\n",
    "    for row in csv_reader:\n",
    "        # Access the file path and print it\n",
    "        print(f\"Sending record: {file.name} - {row}\")\n",
    "        channel.basic_publish(exchange='',\n",
    "                              routing_key='csv_data',\n",
    "                              body=','.join(row))\n",
    "\n",
    "connection.close()\n"
   ]
  },
  {
   "cell_type": "code",
   "execution_count": 2,
   "id": "1294c42e-71b2-46e3-a5cd-3213cdca1ae0",
   "metadata": {},
   "outputs": [],
   "source": [
    "import pandas as pd\n",
    "import numpy as np\n",
    "from sklearn.preprocessing import MinMaxScaler"
   ]
  },
  {
   "cell_type": "code",
   "execution_count": 3,
   "id": "f17425bd-e046-4988-bc72-fabd7e30b754",
   "metadata": {},
   "outputs": [
    {
     "name": "stdout",
     "output_type": "stream",
     "text": [
      "Waiting for messages...\n",
      "Prediction: ['Syn']\n",
      "Prediction: ['DrDoS_UDP']\n",
      "Prediction: ['BENIGN']\n",
      "Prediction: ['DrDoS_UDP']\n",
      "Prediction: ['DrDoS_UDP']\n",
      "Prediction: ['Syn']\n",
      "Prediction: ['Syn']\n",
      "Prediction: ['DrDoS_UDP']\n",
      "Prediction: ['BENIGN']\n",
      "Prediction: ['Syn']\n",
      "done!\n"
     ]
    }
   ],
   "source": [
    "# Define preprocess_data function\n",
    "import joblib\n",
    "\n",
    "model = joblib.load('modelMNB.pkl') \n",
    "\n",
    "def preprocess_data(X):\n",
    "    # Scale the features using StandardScaler\n",
    "    scaler = MinMaxScaler()\n",
    "    scaled_X = scaler.fit_transform(X)\n",
    "    return scaled_X  # Correct indentation\n",
    "\n",
    "\n",
    "# Callback function to handle incoming messages\n",
    "def callback(ch, method, properties, body):\n",
    "    # Assuming body contains the data for a single row in CSV format\n",
    "    data = body.decode('utf-8').strip().split(',')  # Assuming CSV data\n",
    "    # Assuming data is in the same format as the training data\n",
    "    # Convert data to DataFrame with appropriate column names\n",
    "    df = pd.DataFrame([data])\n",
    "    # Assuming you have preprocessed your data similarly to the training data\n",
    "    # Make predictions\n",
    "    #print(df)\n",
    "    prediction = model.predict(df)\n",
    "    print(\"Prediction:\", prediction)\n",
    "    \n",
    "\n",
    "\n",
    "# Connect to RabbitMQ server\n",
    "connection = pika.BlockingConnection(pika.ConnectionParameters('localhost'))\n",
    "channel = connection.channel()\n",
    "\n",
    "\n",
    "# Declare the queue\n",
    "channel.queue_declare(queue='csv_data')\n",
    "\n",
    "\n",
    "# Set up consumer to receive messages from the queue\n",
    "channel.basic_consume(queue='csv_data',\n",
    "                      on_message_callback=callback,\n",
    "                      auto_ack=True)\n",
    "\n",
    "# Start consuming messages\n",
    "print('Waiting for messages...')\n",
    "\n",
    "import threading\n",
    "st = threading.Timer(2,channel.stop_consuming)\n",
    "st.start()\n",
    "\n",
    "try:\n",
    "    channel.start_consuming()\n",
    "except KeyboardInterrupt:\n",
    "    channel.stop_consuming()\n",
    "finally:\n",
    "    connection.close()\n",
    " \n",
    "print(\"done!\")\n"
   ]
  },
  {
   "cell_type": "code",
   "execution_count": null,
   "id": "340ac91d-970f-4234-ab34-e34dc936d95a",
   "metadata": {},
   "outputs": [],
   "source": [
    "\n"
   ]
  }
 ],
 "metadata": {
  "kernelspec": {
   "display_name": "Python 3 (ipykernel)",
   "language": "python",
   "name": "python3"
  },
  "language_info": {
   "codemirror_mode": {
    "name": "ipython",
    "version": 3
   },
   "file_extension": ".py",
   "mimetype": "text/x-python",
   "name": "python",
   "nbconvert_exporter": "python",
   "pygments_lexer": "ipython3",
   "version": "3.11.4"
  }
 },
 "nbformat": 4,
 "nbformat_minor": 5
}
